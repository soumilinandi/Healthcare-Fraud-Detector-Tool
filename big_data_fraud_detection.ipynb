{
  "cells": [
    {
      "cell_type": "code",
      "execution_count": 52,
      "metadata": {
        "id": "geZKzF52Tv9_"
      },
      "outputs": [],
      "source": [
        "import pandas as pd\n",
        "import numpy as np\n",
        "import scipy\n",
        "import os\n",
        "\n",
        "import matplotlib.pyplot as plt\n",
        "\n",
        "\n",
        "from sklearn.naive_bayes import GaussianNB\n",
        "from sklearn.linear_model import LogisticRegression\n",
        "from sklearn import ensemble\n",
        "from sklearn.ensemble import RandomForestClassifier\n",
        "from sklearn.metrics import brier_score_loss, precision_score, recall_score,f1_score, roc_auc_score, accuracy_score\n",
        "from sklearn.metrics import confusion_matrix, roc_curve\n",
        "\n",
        "from sklearn.preprocessing import StandardScaler\n",
        "from sklearn.feature_extraction import DictVectorizer\n",
        "from sklearn.cluster import KMeans\n",
        "\n",
        "import random\n",
        "\n",
        "from scipy.stats import ttest_ind"
      ]
    },
    {
      "cell_type": "code",
      "source": [
        "from google.colab import drive\n",
        "drive.mount('/content/drive')"
      ],
      "metadata": {
        "id": "0WgdMC0x66J-",
        "colab": {
          "base_uri": "https://localhost:8080/"
        },
        "outputId": "ab421854-f05c-4e6a-8918-6b149a135461"
      },
      "execution_count": 53,
      "outputs": [
        {
          "output_type": "stream",
          "name": "stdout",
          "text": [
            "Drive already mounted at /content/drive; to attempt to forcibly remount, call drive.mount(\"/content/drive\", force_remount=True).\n"
          ]
        }
      ]
    },
    {
      "cell_type": "code",
      "source": [
        "!pip install pyspark"
      ],
      "metadata": {
        "colab": {
          "base_uri": "https://localhost:8080/"
        },
        "id": "atYGTyRk3vJI",
        "outputId": "59135f63-227d-4283-b6e4-7d4469ab642a"
      },
      "execution_count": 54,
      "outputs": [
        {
          "output_type": "stream",
          "name": "stdout",
          "text": [
            "Requirement already satisfied: pyspark in /usr/local/lib/python3.10/dist-packages (3.5.1)\n",
            "Requirement already satisfied: py4j==0.10.9.7 in /usr/local/lib/python3.10/dist-packages (from pyspark) (0.10.9.7)\n"
          ]
        }
      ]
    },
    {
      "cell_type": "code",
      "source": [
        "from pyspark.sql import SparkSession\n",
        "spark = SparkSession.builder.master(\"local[*]\").appName(\"Medicare Fraud Detection\").getOrCreate()"
      ],
      "metadata": {
        "id": "B4rA7IAf31vC"
      },
      "execution_count": 55,
      "outputs": []
    },
    {
      "cell_type": "code",
      "execution_count": 56,
      "metadata": {
        "id": "Z1yrg0-STv-C"
      },
      "outputs": [],
      "source": [
        "PartDRawData = \"/content/drive/MyDrive/Medicare Part D Prescribers - by Provider and Drug/Medicare Part D Prescribers - by Provider and Drug/2021/MUP_DPR_RY23_P04_V10_DY21_NPIBN.csv\""
      ]
    },
    {
      "cell_type": "code",
      "source": [
        "data = spark.read.csv(PartDRawData, header=True, inferSchema=True)"
      ],
      "metadata": {
        "id": "zpQwE3O2GXSy"
      },
      "execution_count": 57,
      "outputs": []
    },
    {
      "cell_type": "code",
      "execution_count": 58,
      "metadata": {
        "id": "crSiLO3gTv-D"
      },
      "outputs": [],
      "source": [
        "cols_to_use = ['Prscrbr_NPI', 'Prscrbr_City', 'Prscrbr_State_Abrvtn', 'Prscrbr_Last_Org_Name', 'Prscrbr_First_Name','Prscrbr_Type', 'Brnd_Name', 'Gnrc_Name', 'Tot_Drug_Cst', 'Tot_Clms', 'Tot_Day_Suply' ]\n",
        "\n",
        "partDdf = data.select(cols_to_use)"
      ]
    },
    {
      "cell_type": "code",
      "execution_count": 59,
      "metadata": {
        "id": "oGV1xsQfTv-D",
        "colab": {
          "base_uri": "https://localhost:8080/"
        },
        "outputId": "e5ddad9e-2832-4537-b609-8c494f67ba50"
      },
      "outputs": [
        {
          "output_type": "stream",
          "name": "stdout",
          "text": [
            "+-----------+------------+--------------------+---------------------+------------------+-----------------+--------------------+--------------------+------------+--------+-------------+\n",
            "|Prscrbr_NPI|Prscrbr_City|Prscrbr_State_Abrvtn|Prscrbr_Last_Org_Name|Prscrbr_First_Name|     Prscrbr_Type|           Brnd_Name|           Gnrc_Name|Tot_Drug_Cst|Tot_Clms|Tot_Day_Suply|\n",
            "+-----------+------------+--------------------+---------------------+------------------+-----------------+--------------------+--------------------+------------+--------+-------------+\n",
            "| 1003000126|    Bethesda|                  MD|            Enkeshafi|           Ardalan|Internal Medicine|  Alendronate Sodium|  Alendronate Sodium|      125.28|      11|          930|\n",
            "| 1003000126|    Bethesda|                  MD|            Enkeshafi|           Ardalan|Internal Medicine| Amlodipine Besylate| Amlodipine Besylate|      812.86|      64|         5311|\n",
            "| 1003000126|    Bethesda|                  MD|            Enkeshafi|           Ardalan|Internal Medicine|            Atenolol|            Atenolol|      220.84|      12|         1080|\n",
            "| 1003000126|    Bethesda|                  MD|            Enkeshafi|           Ardalan|Internal Medicine|Atorvastatin Calcium|Atorvastatin Calcium|      825.26|      46|         3660|\n",
            "| 1003000126|    Bethesda|                  MD|            Enkeshafi|           Ardalan|Internal Medicine|            Cefdinir|            Cefdinir|       175.5|      11|           89|\n",
            "| 1003000126|    Bethesda|                  MD|            Enkeshafi|           Ardalan|Internal Medicine|         Clopidogrel|Clopidogrel Bisul...|      128.02|      14|          960|\n",
            "| 1003000126|    Bethesda|                  MD|            Enkeshafi|           Ardalan|Internal Medicine|             Eliquis|            Apixaban|     7150.87|      15|          422|\n",
            "| 1003000126|    Bethesda|                  MD|            Enkeshafi|           Ardalan|Internal Medicine|Escitalopram Oxalate|Escitalopram Oxalate|      703.42|      30|         2013|\n",
            "| 1003000126|    Bethesda|                  MD|            Enkeshafi|           Ardalan|Internal Medicine|         Finasteride|         Finasteride|      526.76|      19|         1710|\n",
            "| 1003000126|    Bethesda|                  MD|            Enkeshafi|           Ardalan|Internal Medicine|          Furosemide|          Furosemide|      158.74|      20|         1003|\n",
            "| 1003000126|    Bethesda|                  MD|            Enkeshafi|           Ardalan|Internal Medicine|          Gabapentin|          Gabapentin|       222.0|      13|          720|\n",
            "| 1003000126|    Bethesda|                  MD|            Enkeshafi|           Ardalan|Internal Medicine|        Glipizide Er|           Glipizide|      354.79|      18|         1500|\n",
            "| 1003000126|    Bethesda|                  MD|            Enkeshafi|           Ardalan|Internal Medicine|     Hydralazine Hcl|     Hydralazine Hcl|       358.6|      31|         2180|\n",
            "| 1003000126|    Bethesda|                  MD|            Enkeshafi|           Ardalan|Internal Medicine| Hydrochlorothiazide| Hydrochlorothiazide|      121.52|      26|         2043|\n",
            "| 1003000126|    Bethesda|                  MD|            Enkeshafi|           Ardalan|Internal Medicine|Isosorbide Mononi...|Isosorbide Mononi...|       246.5|      11|          870|\n",
            "| 1003000126|    Bethesda|                  MD|            Enkeshafi|           Ardalan|Internal Medicine|             Januvia|Sitagliptin Phosp...|    18816.27|      14|         1080|\n",
            "| 1003000126|    Bethesda|                  MD|            Enkeshafi|           Ardalan|Internal Medicine|Levothyroxine Sodium|Levothyroxine Sodium|      747.17|      30|         2384|\n",
            "| 1003000126|    Bethesda|                  MD|            Enkeshafi|           Ardalan|Internal Medicine|          Lisinopril|          Lisinopril|      239.14|      23|         1710|\n",
            "| 1003000126|    Bethesda|                  MD|            Enkeshafi|           Ardalan|Internal Medicine|  Losartan Potassium|  Losartan Potassium|     1125.87|      52|         4560|\n",
            "| 1003000126|    Bethesda|                  MD|            Enkeshafi|           Ardalan|Internal Medicine|       Metformin Hcl|       Metformin Hcl|      269.62|      32|         2677|\n",
            "+-----------+------------+--------------------+---------------------+------------------+-----------------+--------------------+--------------------+------------+--------+-------------+\n",
            "only showing top 20 rows\n",
            "\n"
          ]
        }
      ],
      "source": [
        "partDdf.show()"
      ]
    },
    {
      "cell_type": "code",
      "execution_count": 60,
      "metadata": {
        "id": "MAzRTWwETv-F",
        "colab": {
          "base_uri": "https://localhost:8080/"
        },
        "outputId": "bce33b63-930d-458e-c55b-9f49d6c6c8b7"
      },
      "outputs": [
        {
          "output_type": "stream",
          "name": "stdout",
          "text": [
            "Column: Prscrbr_NPI, Type: int\n",
            "Column: Prscrbr_Last_Org_Name, Type: string\n",
            "Column: Prscrbr_First_Name, Type: string\n",
            "Column: Prscrbr_City, Type: string\n",
            "Column: Prscrbr_State_Abrvtn, Type: string\n",
            "Column: Prscrbr_State_FIPS, Type: string\n",
            "Column: Prscrbr_Type, Type: string\n",
            "Column: Prscrbr_Type_Src, Type: string\n",
            "Column: Brnd_Name, Type: string\n",
            "Column: Gnrc_Name, Type: string\n",
            "Column: Tot_Clms, Type: int\n",
            "Column: Tot_30day_Fills, Type: double\n",
            "Column: Tot_Day_Suply, Type: int\n",
            "Column: Tot_Drug_Cst, Type: double\n",
            "Column: Tot_Benes, Type: int\n",
            "Column: GE65_Sprsn_Flag, Type: string\n",
            "Column: GE65_Tot_Clms, Type: int\n",
            "Column: GE65_Tot_30day_Fills, Type: double\n",
            "Column: GE65_Tot_Drug_Cst, Type: double\n",
            "Column: GE65_Tot_Day_Suply, Type: int\n",
            "Column: GE65_Bene_Sprsn_Flag, Type: string\n",
            "Column: GE65_Tot_Benes, Type: int\n"
          ]
        }
      ],
      "source": [
        "cols_to_use = ['Prscrbr_NPI','Gnrc_Name','Tot_Drug_Cst','Tot_Clms','Tot_Day_Suply','Prscrbr_Type']\n",
        "\n",
        "partDdf1 = data. select(cols_to_use)\n",
        "\n",
        "column_types = data.dtypes\n",
        "\n",
        "# Print each column name and its data type\n",
        "for column, dtype in column_types:\n",
        "    print(f\"Column: {column}, Type: {dtype}\")\n",
        "#partD_Drug_pd['Prscrbr_NPI'] = partD_Drug_pd.Prscrbr_NPI.astype(object)"
      ]
    },
    {
      "cell_type": "code",
      "execution_count": 61,
      "metadata": {
        "id": "jXWeP3BoTv-F"
      },
      "outputs": [],
      "source": [
        "cols_to_use = ['Prscrbr_NPI','Prscrbr_Type']\n",
        "partDdf2= data.select(cols_to_use)"
      ]
    },
    {
      "cell_type": "code",
      "execution_count": 62,
      "metadata": {
        "id": "79EauNrlTv-G",
        "outputId": "5bb1aba5-2a26-4cd5-ab4c-71716af30e8d",
        "colab": {
          "base_uri": "https://localhost:8080/"
        }
      },
      "outputs": [
        {
          "output_type": "stream",
          "name": "stdout",
          "text": [
            "+-----------+------------+\n",
            "|Prscrbr_NPI|Prscrbr_Type|\n",
            "+-----------+------------+\n",
            "+-----------+------------+\n",
            "\n"
          ]
        }
      ],
      "source": [
        "partDdf2.limit(0).show()"
      ]
    },
    {
      "cell_type": "code",
      "execution_count": 63,
      "metadata": {
        "id": "obW5CO7kTv-G",
        "outputId": "4a8b2962-978f-4cca-94ad-e648a58d2135",
        "colab": {
          "base_uri": "https://localhost:8080/"
        }
      },
      "outputs": [
        {
          "output_type": "stream",
          "name": "stdout",
          "text": [
            "+-----------+---------+------------+--------+-------------+------------+\n",
            "|Prscrbr_NPI|Gnrc_Name|Tot_Drug_Cst|Tot_Clms|Tot_Day_Suply|Prscrbr_Type|\n",
            "+-----------+---------+------------+--------+-------------+------------+\n",
            "+-----------+---------+------------+--------+-------------+------------+\n",
            "\n"
          ]
        }
      ],
      "source": [
        "partDdf1.limit(0).show()"
      ]
    },
    {
      "cell_type": "code",
      "execution_count": 64,
      "metadata": {
        "id": "DegGm8mWTv-G"
      },
      "outputs": [],
      "source": [
        "cols_to_use =['Prscrbr_NPI','Prscrbr_City','Prscrbr_State_Abrvtn', \\\n",
        "                                               'Prscrbr_Last_Org_Name', \\\n",
        "                                               'Prscrbr_First_Name','Prscrbr_Type']\n",
        "partDdf3 = data.select(cols_to_use)"
      ]
    },
    {
      "cell_type": "code",
      "execution_count": 65,
      "metadata": {
        "id": "vJrrlY30Tv-H",
        "outputId": "fb9a5823-6092-4239-f7b4-676cc2d9dbbe",
        "colab": {
          "base_uri": "https://localhost:8080/"
        }
      },
      "outputs": [
        {
          "output_type": "stream",
          "name": "stdout",
          "text": [
            "+-----------+------------+--------------------+---------------------+------------------+------------+\n",
            "|Prscrbr_NPI|Prscrbr_City|Prscrbr_State_Abrvtn|Prscrbr_Last_Org_Name|Prscrbr_First_Name|Prscrbr_Type|\n",
            "+-----------+------------+--------------------+---------------------+------------------+------------+\n",
            "+-----------+------------+--------------------+---------------------+------------------+------------+\n",
            "\n"
          ]
        }
      ],
      "source": [
        "partDdf3.limit(0).show()"
      ]
    },
    {
      "cell_type": "code",
      "source": [
        "partDdf3.count()"
      ],
      "metadata": {
        "colab": {
          "base_uri": "https://localhost:8080/"
        },
        "id": "j2LtYuZ89A4W",
        "outputId": "54105037-6df5-43d5-c6fe-3e86043fa834"
      },
      "execution_count": 66,
      "outputs": [
        {
          "output_type": "execute_result",
          "data": {
            "text/plain": [
              "25231862"
            ]
          },
          "metadata": {},
          "execution_count": 66
        }
      ]
    },
    {
      "cell_type": "code",
      "execution_count": 67,
      "metadata": {
        "id": "skzlyoajTv-H"
      },
      "outputs": [],
      "source": [
        "partDdf3 = partDdf3.dropDuplicates()"
      ]
    },
    {
      "cell_type": "code",
      "source": [
        "partDdf3.count()"
      ],
      "metadata": {
        "colab": {
          "base_uri": "https://localhost:8080/"
        },
        "id": "aYYegi188YVy",
        "outputId": "cb794aef-46d2-4daa-91af-e2d825523713"
      },
      "execution_count": 68,
      "outputs": [
        {
          "output_type": "execute_result",
          "data": {
            "text/plain": [
              "1017417"
            ]
          },
          "metadata": {},
          "execution_count": 68
        }
      ]
    },
    {
      "cell_type": "code",
      "execution_count": 69,
      "metadata": {
        "id": "vcZ0m0BKTv-H"
      },
      "outputs": [],
      "source": [
        "partDdf3 = partDdf3.withColumnRenamed(\"Prscrbr_First_Name\",\"first_name\")\\\n",
        "                   .withColumnRenamed(\"Prscrbr_Last_Org_Name\",\"last_name\")\\\n",
        "                   .withColumnRenamed(\"Prscrbr_City\",\"city\")\\\n",
        "                   .withColumnRenamed(\"Prscrbr_State_Abrvtn\",\"state\")\\\n",
        "                   .withColumnRenamed(\"Prscrbr_Type\",\"Speciality\")"
      ]
    },
    {
      "cell_type": "code",
      "source": [
        "partDdf3.limit(0).show()"
      ],
      "metadata": {
        "colab": {
          "base_uri": "https://localhost:8080/"
        },
        "id": "ddE9iIFu_At1",
        "outputId": "c61941cd-4e7d-4beb-d8db-28578e6cdc82"
      },
      "execution_count": 70,
      "outputs": [
        {
          "output_type": "stream",
          "name": "stdout",
          "text": [
            "+-----------+----+-----+---------+----------+----------+\n",
            "|Prscrbr_NPI|city|state|last_name|first_name|Speciality|\n",
            "+-----------+----+-----+---------+----------+----------+\n",
            "+-----------+----+-----+---------+----------+----------+\n",
            "\n"
          ]
        }
      ]
    },
    {
      "cell_type": "code",
      "execution_count": 73,
      "metadata": {
        "id": "5ZgZ91OuTv-J"
      },
      "outputs": [],
      "source": [
        "from pyspark.sql import functions as F\n",
        "group_cols = ['Prscrbr_NPI']\n",
        "agg_dict = {\n",
        "    'Tot_Drug_Cst': [F.sum('Tot_Drug_Cst').alias('sum_Tot_Drug_Cst'),\n",
        "                     F.mean('Tot_Drug_Cst').alias('mean_Tot_Drug_Cst'),\n",
        "                     F.max('Tot_Drug_Cst').alias('max_Tot_Drug_Cst')],\n",
        "    'Tot_Clms': [F.sum('Tot_Clms').alias('sum_Tot_Clms'),\n",
        "                 F.mean('Tot_Clms').alias('mean_Tot_Clms'),\n",
        "                 F.max('Tot_Clms').alias('max_Tot_Clms')],\n",
        "    'Tot_Day_Suply': [F.sum('Tot_Day_Suply').alias('sum_Tot_Day_Suply'),\n",
        "                      F.mean('Tot_Day_Suply').alias('mean_Tot_Day_Suply'),\n",
        "                      F.max('Tot_Day_Suply').alias('max_Tot_Day_Suply')]\n",
        "}\n",
        "\n",
        "# Perform the grouping and aggregation\n",
        "aggregated_df = data.groupBy(group_cols).agg(*[item for sublist in agg_dict.values() for item in sublist])\n",
        "\n",
        "# Show the result to verify\n",
        "#aggregated_df.show()\n"
      ]
    },
    {
      "cell_type": "code",
      "execution_count": 74,
      "metadata": {
        "id": "TNBV0eVVTv-K"
      },
      "outputs": [],
      "source": [
        "aggregated_df = aggregated_df.withColumnRenamed(\"sum_Tot_Drug_Cst\", \"Total_Drug_Cost_Sum\")\\\n",
        "                             .withColumnRenamed(\"mean_Tot_Drug_Cst\", \"Total_Drug_Cost_Mean\")\\\n",
        "                             .withColumnRenamed(\"max_Tot_Drug_Cst\", \"Total_Drug_Cost_Max\")\\\n",
        "                             .withColumnRenamed(\"sum_Tot_Clms\", \"Total_Claims_Sum\")\\\n",
        "                             .withColumnRenamed(\"mean_Tot_Clms\", \"Total_Claims_Mean\")\\\n",
        "                             .withColumnRenamed(\"max_Tot_Clms\", \"Total_Claims_Max\")\\\n",
        "                             .withColumnRenamed(\"sum_Tot_Day_Suply\", \"Total_Day_Supply_Sum\")\\\n",
        "                             .withColumnRenamed(\"mean_Tot_Day_Suply\", \"Total_Day_Supply_Mean\")\\\n",
        "                             .withColumnRenamed(\"max_Tot_Day_Suply\", \"Total_Day_Supply_Max\")\n",
        "\n",
        "# Display the DataFrame to verify the new column names\n",
        "#aggregated_df.show()"
      ]
    },
    {
      "cell_type": "code",
      "execution_count": null,
      "metadata": {
        "id": "v_Kj900RTv-K"
      },
      "outputs": [],
      "source": [
        "#aggregated_df.limit(0).show()"
      ]
    },
    {
      "cell_type": "code",
      "execution_count": null,
      "metadata": {
        "id": "oj8qaZlqTv-K"
      },
      "outputs": [],
      "source": [
        "#aggregated_df.count()\n"
      ]
    },
    {
      "cell_type": "code",
      "execution_count": 75,
      "metadata": {
        "id": "ngbNHA6_Tv-L"
      },
      "outputs": [],
      "source": [
        "partD_all = partDdf3.join(aggregated_df, on='Prscrbr_NPI', how='left')\n",
        "# Show some of the results to verify the join\n",
        "#partD_all.show()"
      ]
    },
    {
      "cell_type": "code",
      "execution_count": null,
      "metadata": {
        "id": "-AITzsdJTv-L"
      },
      "outputs": [],
      "source": [
        "#partD_all.count()"
      ]
    },
    {
      "cell_type": "code",
      "execution_count": 76,
      "metadata": {
        "id": "ZPElUynkTv-L"
      },
      "outputs": [],
      "source": [
        "PaymentRawData = \"/content/drive/MyDrive/OP_DTL_GNRL_PGYR2022_P01182024.csv\"\n"
      ]
    },
    {
      "cell_type": "code",
      "source": [
        "data = spark.read.csv(PaymentRawData, header=True, inferSchema=True)"
      ],
      "metadata": {
        "id": "hbU-dxZEI6_a"
      },
      "execution_count": 77,
      "outputs": []
    },
    {
      "cell_type": "code",
      "execution_count": 78,
      "metadata": {
        "id": "1i9mKIy2Tv-M"
      },
      "outputs": [],
      "source": [
        "cols_to_use = ['Covered_Recipient_NPI', 'Covered_Recipient_First_Name', 'Covered_Recipient_Last_Name', 'Recipient_City', 'Recipient_State', 'Total_Amount_of_Payment_USDollars']\n",
        "paymentDf = data.select(cols_to_use)"
      ]
    },
    {
      "cell_type": "code",
      "execution_count": 79,
      "metadata": {
        "id": "38ucRCDHTv-M"
      },
      "outputs": [],
      "source": [
        "cols_to_use = ['Covered_Recipient_First_Name',\\\n",
        "                  'Covered_Recipient_Last_Name', \\\n",
        "                  'Recipient_City', \\\n",
        "                  'Recipient_State', \\\n",
        "                  'Total_Amount_of_Payment_USDollars']\n",
        "\n",
        "paymentdf_1 = data.select(cols_to_use)"
      ]
    },
    {
      "cell_type": "code",
      "execution_count": 80,
      "metadata": {
        "id": "8b5G7Fp1Tv-M"
      },
      "outputs": [],
      "source": [
        "#paymentdf_1.limit(5).show()"
      ]
    },
    {
      "cell_type": "code",
      "execution_count": 81,
      "metadata": {
        "id": "NwN5DZm0Tv-N"
      },
      "outputs": [],
      "source": [
        "#paymentdf_1.count()"
      ]
    },
    {
      "cell_type": "code",
      "execution_count": 82,
      "metadata": {
        "id": "8aXdpK82Tv-N"
      },
      "outputs": [],
      "source": [
        "paymentdf_2 = paymentdf_1.groupBy(\n",
        "    'Covered_Recipient_First_Name',\n",
        "    'Covered_Recipient_Last_Name',\n",
        "    'Recipient_City',\n",
        "    'Recipient_State'\n",
        ").agg(\n",
        "    F.sum('Total_Amount_of_Payment_USDollars').alias('Total_Payment_Sum')\n",
        ").withColumn(\"Total_Payment_Sum\", F.col(\"Total_Payment_Sum\").cast(\"float\"))\n",
        "\n",
        "# Show the results to verify\n",
        "#paymentdf_2.show()"
      ]
    },
    {
      "cell_type": "code",
      "execution_count": 83,
      "metadata": {
        "id": "va1waoclTv-N"
      },
      "outputs": [],
      "source": [
        "rename_dict = {\n",
        "    'Covered_Recipient_First_Name': 'first_name',\n",
        "    'Covered_Recipient_Last_Name': 'last_name',\n",
        "    'Recipient_City': 'city',\n",
        "    'Recipient_State': 'state',\n",
        "    'Total_Payment_Sum': 'Total_Payment_Sum'\n",
        "}\n",
        "\n",
        "# Apply renaming using withColumnRenamed\n",
        "for old_name, new_name in rename_dict.items():\n",
        "    paymentdf_2 = paymentdf_2.withColumnRenamed(old_name, new_name)\n",
        "\n",
        "# Show the DataFrame to verify changes\n",
        "#paymentdf_2.show()"
      ]
    },
    {
      "cell_type": "code",
      "execution_count": 84,
      "metadata": {
        "id": "C-hBz7oQTv-e"
      },
      "outputs": [],
      "source": [
        "from pyspark.sql.functions import col\n",
        "\n",
        "paymentdf_2 = paymentdf_2.orderBy(col(\"Total_Payment_Sum\").desc())"
      ]
    },
    {
      "cell_type": "code",
      "execution_count": 85,
      "metadata": {
        "id": "6Lyj6-eqTv-f"
      },
      "outputs": [],
      "source": [
        "from pyspark.sql.functions import upper\n",
        "\n",
        "for column in partD_all.columns:\n",
        "    partD_all = partD_all.withColumn(column, upper(col(column).cast(\"string\")))\n"
      ]
    },
    {
      "cell_type": "code",
      "source": [
        "for column in paymentdf_2.columns:\n",
        "    paymentdf_2 = paymentdf_2.withColumn(column, upper(col(column).cast(\"string\")))"
      ],
      "metadata": {
        "id": "Qlham6TvVeCb"
      },
      "execution_count": 86,
      "outputs": []
    },
    {
      "cell_type": "code",
      "execution_count": 87,
      "metadata": {
        "id": "bRkO90NMTv-f",
        "colab": {
          "base_uri": "https://localhost:8080/"
        },
        "outputId": "68577739-7b5a-4929-bccd-0b179b7e8b07"
      },
      "outputs": [
        {
          "output_type": "stream",
          "name": "stdout",
          "text": [
            "+----------+---------+------------+-----+-----------------+\n",
            "|first_name|last_name|        city|state|Total_Payment_Sum|\n",
            "+----------+---------+------------+-----+-----------------+\n",
            "|      NULL|     NULL|PHILADELPHIA|   PA|      7.1777747E8|\n",
            "+----------+---------+------------+-----+-----------------+\n",
            "\n",
            "+-----------+----------+-----+---------+------------+--------------+-------------------+--------------------+-------------------+----------------+-----------------+----------------+--------------------+---------------------+--------------------+\n",
            "|Prscrbr_NPI|      city|state|last_name|  first_name|    Speciality|Total_Drug_Cost_Sum|Total_Drug_Cost_Mean|Total_Drug_Cost_Max|Total_Claims_Sum|Total_Claims_Mean|Total_Claims_Max|Total_Day_Supply_Sum|Total_Day_Supply_Mean|Total_Day_Supply_Max|\n",
            "+-----------+----------+-----+---------+------------+--------------+-------------------+--------------------+-------------------+----------------+-----------------+----------------+--------------------+---------------------+--------------------+\n",
            "| 1003012014|PROVIDENCE|   RI|   SCARFO|KEITH-AUSTIN|ANESTHESIOLOGY| 15256.320000000002|            1525.632|            7156.88|             899|             89.9|             451|               33937|               3393.7|               16677|\n",
            "+-----------+----------+-----+---------+------------+--------------+-------------------+--------------------+-------------------+----------------+-----------------+----------------+--------------------+---------------------+--------------------+\n",
            "\n"
          ]
        }
      ],
      "source": [
        "paymentdf_2.limit(1).show()\n",
        "partD_all.limit(1).show()"
      ]
    },
    {
      "cell_type": "code",
      "execution_count": 90,
      "metadata": {
        "id": "xzwmz-zGTv-f"
      },
      "outputs": [],
      "source": [
        "pay_partD_all = partD_all.join(\n",
        "    paymentdf_2,\n",
        "    (partD_all.last_name == paymentdf_2.last_name) &\n",
        "    (partD_all.first_name == paymentdf_2.first_name) &\n",
        "    (partD_all.city == paymentdf_2.city) &\n",
        "    (partD_all.state == paymentdf_2.state),\n",
        "    how='left'\n",
        ")"
      ]
    },
    {
      "cell_type": "code",
      "execution_count": 91,
      "metadata": {
        "id": "rC68XCKvTv-f",
        "colab": {
          "base_uri": "https://localhost:8080/"
        },
        "outputId": "5e39fcf8-fda3-4788-cf31-3858241ff9bd"
      },
      "outputs": [
        {
          "output_type": "stream",
          "name": "stdout",
          "text": [
            "+-----------+----------+-----+---------+------------+--------------+-------------------+--------------------+-------------------+----------------+-----------------+----------------+--------------------+---------------------+--------------------+------------+---------+----------+-----+-----------------+\n",
            "|Prscrbr_NPI|      city|state|last_name|  first_name|    Speciality|Total_Drug_Cost_Sum|Total_Drug_Cost_Mean|Total_Drug_Cost_Max|Total_Claims_Sum|Total_Claims_Mean|Total_Claims_Max|Total_Day_Supply_Sum|Total_Day_Supply_Mean|Total_Day_Supply_Max|  first_name|last_name|      city|state|Total_Payment_Sum|\n",
            "+-----------+----------+-----+---------+------------+--------------+-------------------+--------------------+-------------------+----------------+-----------------+----------------+--------------------+---------------------+--------------------+------------+---------+----------+-----+-----------------+\n",
            "| 1003012014|PROVIDENCE|   RI|   SCARFO|KEITH-AUSTIN|ANESTHESIOLOGY| 15256.320000000002|            1525.632|            7156.88|             899|             89.9|             451|               33937|               3393.7|               16677|KEITH-AUSTIN|   SCARFO|PROVIDENCE|   RI|            44.47|\n",
            "+-----------+----------+-----+---------+------------+--------------+-------------------+--------------------+-------------------+----------------+-----------------+----------------+--------------------+---------------------+--------------------+------------+---------+----------+-----+-----------------+\n",
            "\n"
          ]
        }
      ],
      "source": [
        "pay_partD_all.limit(1).show()"
      ]
    },
    {
      "cell_type": "code",
      "source": [
        "columns_to_drop = ['last_name', 'first_name', 'city', 'state']\n",
        "for col_name in columns_to_drop:\n",
        "    pay_partD_all = pay_partD_all.drop(paymentdf_2[col_name])\n",
        "\n",
        "# Show some of the results to verify the join and the drop of columns\n",
        "pay_partD_all.limit(1).show()"
      ],
      "metadata": {
        "colab": {
          "base_uri": "https://localhost:8080/"
        },
        "id": "p6-Wqf3XyJo5",
        "outputId": "8e92cf40-ae59-41a1-d79e-f46e683073b3"
      },
      "execution_count": 115,
      "outputs": [
        {
          "output_type": "stream",
          "name": "stdout",
          "text": [
            "+----------+----------+-----+---------+------------+--------------+-------------------+--------------------+-------------------+----------------+-----------------+----------------+--------------------+---------------------+--------------------+-----------------+\n",
            "|       NPI|      city|state|last_name|  first_name|    Speciality|Total_Drug_Cost_Sum|Total_Drug_Cost_Mean|Total_Drug_Cost_Max|Total_Claims_Sum|Total_Claims_Mean|Total_Claims_Max|Total_Day_Supply_Sum|Total_Day_Supply_Mean|Total_Day_Supply_Max|Total_Payment_Sum|\n",
            "+----------+----------+-----+---------+------------+--------------+-------------------+--------------------+-------------------+----------------+-----------------+----------------+--------------------+---------------------+--------------------+-----------------+\n",
            "|1003012014|PROVIDENCE|   RI|   SCARFO|KEITH-AUSTIN|ANESTHESIOLOGY| 15256.320000000002|            1525.632|            7156.88|             899|             89.9|             451|               33937|               3393.7|               16677|            44.47|\n",
            "+----------+----------+-----+---------+------------+--------------+-------------------+--------------------+-------------------+----------------+-----------------+----------------+--------------------+---------------------+--------------------+-----------------+\n",
            "\n"
          ]
        }
      ]
    },
    {
      "cell_type": "code",
      "execution_count": 92,
      "metadata": {
        "id": "uk-R-BmqTv-g",
        "colab": {
          "base_uri": "https://localhost:8080/"
        },
        "outputId": "a8b5fe02-707a-41e6-df7e-9c65eeffa15c"
      },
      "outputs": [
        {
          "output_type": "execute_result",
          "data": {
            "text/plain": [
              "1269287"
            ]
          },
          "metadata": {},
          "execution_count": 92
        }
      ],
      "source": [
        "pay_partD_all.count()"
      ]
    },
    {
      "cell_type": "code",
      "execution_count": 93,
      "metadata": {
        "id": "aiQKZa19Tv-g"
      },
      "outputs": [],
      "source": [
        "IELErawdata = \"/content/drive/MyDrive/LEIE.csv\"\n",
        "data = spark.read.csv(IELErawdata, header=True, inferSchema=True)"
      ]
    },
    {
      "cell_type": "code",
      "execution_count": 112,
      "metadata": {
        "id": "IXGUnQM0Tv-g",
        "colab": {
          "base_uri": "https://localhost:8080/"
        },
        "outputId": "bb1eb262-12bb-424a-ffa3-48f8ee1cfc1f"
      },
      "outputs": [
        {
          "output_type": "stream",
          "name": "stdout",
          "text": [
            "+--------+---------+-------+--------------------+--------------+----------+----+---+----+--------------------+--------+-----+-----+--------+--------+--------+----------+--------+\n",
            "|LASTNAME|FIRSTNAME|MIDNAME|             BUSNAME|       GENERAL| SPECIALTY|UPIN|NPI| DOB|             ADDRESS|    CITY|STATE|  ZIP|EXCLTYPE|EXCLDATE|REINDATE|WAIVERDATE|WVRSTATE|\n",
            "+--------+---------+-------+--------------------+--------------+----------+----+---+----+--------------------+--------+-----+-----+--------+--------+--------+----------+--------+\n",
            "|    NULL|     NULL|   NULL|#1 MARKETING SERV...|OTHER BUSINESS|SOBER HOME|NULL|  0|NULL|239 BRIGHTON BEAC...|BROOKLYN|   NY|11235|  1128a1|20200319|       0|         0|    NULL|\n",
            "+--------+---------+-------+--------------------+--------------+----------+----+---+----+--------------------+--------+-----+-----+--------+--------+--------+----------+--------+\n",
            "\n"
          ]
        }
      ],
      "source": [
        "data.limit(1).show()"
      ]
    },
    {
      "cell_type": "code",
      "execution_count": 96,
      "metadata": {
        "id": "bmtEn7IXTv-g"
      },
      "outputs": [],
      "source": [
        "cols_to_use = ['NPI', 'EXCLTYPE']\n",
        "\n",
        "npifraudDf= data.select(cols_to_use)"
      ]
    },
    {
      "cell_type": "code",
      "execution_count": 97,
      "metadata": {
        "id": "yrdpNfnITv-h",
        "colab": {
          "base_uri": "https://localhost:8080/"
        },
        "outputId": "500bb3e1-92ba-4578-8c22-cf18fd8b0c6f"
      },
      "outputs": [
        {
          "output_type": "stream",
          "name": "stdout",
          "text": [
            "+---+--------+\n",
            "|NPI|EXCLTYPE|\n",
            "+---+--------+\n",
            "|  0|  1128a1|\n",
            "+---+--------+\n",
            "\n"
          ]
        }
      ],
      "source": [
        "npifraudDf.limit(1).show()"
      ]
    },
    {
      "cell_type": "code",
      "execution_count": 101,
      "metadata": {
        "id": "HYjWZNMPTv-h"
      },
      "outputs": [],
      "source": [
        "npifraudDf_1 = npifraudDf.filter(\"NPI != 0\")\n"
      ]
    },
    {
      "cell_type": "code",
      "execution_count": 103,
      "metadata": {
        "id": "B8dbfrYSTv-h",
        "colab": {
          "base_uri": "https://localhost:8080/"
        },
        "outputId": "33eb9c86-9749-4525-bad0-037a204bc4c1"
      },
      "outputs": [
        {
          "output_type": "execute_result",
          "data": {
            "text/plain": [
              "7328"
            ]
          },
          "metadata": {},
          "execution_count": 103
        }
      ],
      "source": [
        "npifraudDf_1.count()"
      ]
    },
    {
      "cell_type": "code",
      "execution_count": 104,
      "metadata": {
        "id": "1ID7a_wzTv-i",
        "colab": {
          "base_uri": "https://localhost:8080/"
        },
        "outputId": "e4c3132e-fa95-4f75-ed8f-2baba805d671"
      },
      "outputs": [
        {
          "output_type": "stream",
          "name": "stdout",
          "text": [
            "root\n",
            " |-- npi: integer (nullable = true)\n",
            " |-- is_fraud: string (nullable = true)\n",
            "\n"
          ]
        }
      ],
      "source": [
        "npi_fraud_df = npifraudDf_1.withColumnRenamed(\"NPI\", \"npi\")\\\n",
        "                           .withColumnRenamed(\"EXCLTYPE\", \"is_fraud\")\n",
        "\n",
        "# Show the DataFrame schema to verify the new column names\n",
        "npi_fraud_df.printSchema()"
      ]
    },
    {
      "cell_type": "code",
      "execution_count": 109,
      "metadata": {
        "id": "gcvwZYpaTv-i",
        "colab": {
          "base_uri": "https://localhost:8080/"
        },
        "outputId": "10da8bdc-8411-499f-d784-039601227711"
      },
      "outputs": [
        {
          "output_type": "stream",
          "name": "stdout",
          "text": [
            "+----------+--------+\n",
            "|       npi|is_fraud|\n",
            "+----------+--------+\n",
            "|1972902351|       1|\n",
            "|1922348218|       1|\n",
            "|1942476080|       1|\n",
            "|1275600959|       1|\n",
            "|1891731758|       1|\n",
            "|1265830335|       1|\n",
            "|1851631543|       1|\n",
            "|1902198435|       1|\n",
            "|1073916631|       1|\n",
            "|1437510278|       1|\n",
            "|1073682936|       1|\n",
            "|1902166028|       1|\n",
            "|1992906937|       1|\n",
            "|1104947944|       1|\n",
            "|1164669479|       1|\n",
            "|1043302250|       1|\n",
            "|1801231436|       1|\n",
            "|1912011800|       1|\n",
            "|1780812768|       1|\n",
            "|1447560867|       1|\n",
            "+----------+--------+\n",
            "only showing top 20 rows\n",
            "\n"
          ]
        }
      ],
      "source": [
        "from pyspark.sql.functions import lit\n",
        "\n",
        "npi_fraud_df = npi_fraud_df.withColumn(\"is_fraud\", lit(1))\n",
        "\n",
        "# Show some of the results to verify the changes\n",
        "npi_fraud_df.show()"
      ]
    },
    {
      "cell_type": "code",
      "execution_count": 116,
      "metadata": {
        "id": "6sRiWV7FTv-j"
      },
      "outputs": [],
      "source": [
        "# Features Engineering\n",
        "pay_partD_all = pay_partD_all.withColumnRenamed(\"Prscrbr_NPI\", \"NPI\")\n",
        "Features_df = pay_partD_all.join(\n",
        "    npi_fraud_df,\n",
        "    on='npi',  # Join condition\n",
        "    how='left'  # Type of join\n",
        ")"
      ]
    },
    {
      "cell_type": "code",
      "execution_count": 117,
      "metadata": {
        "id": "sw1rz2vLTv-j",
        "colab": {
          "base_uri": "https://localhost:8080/"
        },
        "outputId": "642be22f-3fc4-419c-c0c0-040d0dee0484"
      },
      "outputs": [
        {
          "output_type": "stream",
          "name": "stdout",
          "text": [
            "+----------+----------+-----+---------+------------+--------------+-------------------+--------------------+-------------------+----------------+-----------------+----------------+--------------------+---------------------+--------------------+-----------------+--------+\n",
            "|       NPI|      city|state|last_name|  first_name|    Speciality|Total_Drug_Cost_Sum|Total_Drug_Cost_Mean|Total_Drug_Cost_Max|Total_Claims_Sum|Total_Claims_Mean|Total_Claims_Max|Total_Day_Supply_Sum|Total_Day_Supply_Mean|Total_Day_Supply_Max|Total_Payment_Sum|is_fraud|\n",
            "+----------+----------+-----+---------+------------+--------------+-------------------+--------------------+-------------------+----------------+-----------------+----------------+--------------------+---------------------+--------------------+-----------------+--------+\n",
            "|1003012014|PROVIDENCE|   RI|   SCARFO|KEITH-AUSTIN|ANESTHESIOLOGY| 15256.320000000002|            1525.632|            7156.88|             899|             89.9|             451|               33937|               3393.7|               16677|            44.47|    NULL|\n",
            "+----------+----------+-----+---------+------------+--------------+-------------------+--------------------+-------------------+----------------+-----------------+----------------+--------------------+---------------------+--------------------+-----------------+--------+\n",
            "\n"
          ]
        }
      ],
      "source": [
        "Features_df.limit(1).show()"
      ]
    },
    {
      "cell_type": "code",
      "execution_count": 118,
      "metadata": {
        "id": "pJ1JJ9IyTv-j",
        "colab": {
          "base_uri": "https://localhost:8080/"
        },
        "outputId": "e6de6aa8-218d-4a82-cec5-03966561a4b4"
      },
      "outputs": [
        {
          "output_type": "stream",
          "name": "stdout",
          "text": [
            "+-------+--------------------+-----------------+-------+-----------+-------------+--------------------+-------------------+--------------------+-------------------+------------------+-----------------+------------------+--------------------+---------------------+--------------------+------------------+--------+\n",
            "|summary|                 NPI|             city|  state|  last_name|   first_name|          Speciality|Total_Drug_Cost_Sum|Total_Drug_Cost_Mean|Total_Drug_Cost_Max|  Total_Claims_Sum|Total_Claims_Mean|  Total_Claims_Max|Total_Day_Supply_Sum|Total_Day_Supply_Mean|Total_Day_Supply_Max| Total_Payment_Sum|is_fraud|\n",
            "+-------+--------------------+-----------------+-------+-----------+-------------+--------------------+-------------------+--------------------+-------------------+------------------+-----------------+------------------+--------------------+---------------------+--------------------+------------------+--------+\n",
            "|  count|             1269289|          1269289|1269289|    1269289|      1269288|             1269282|            1269289|             1269289|            1269289|           1269289|          1269289|           1269289|             1269289|              1269289|             1269289|            759832|     332|\n",
            "|   mean|1.4997417966560547E9|4263.333333333333|   NULL|        NaN|          NaN|                NULL| 220880.62032583452|   6423.317125184393|  66692.60779936673|1598.2540642832325|36.54636073054825|167.36373197908435|   84076.49423890068|   1538.6787091705164|   9332.706693274738|1882.6511223928553|     1.0|\n",
            "| stddev| 2.880035175567629E8|6684.272386231229|   NULL|        NaN|          NaN|                NULL|  602352.5030682521|  25893.148011306097| 219516.76922070293| 3401.371828349054| 33.1461086159018|415.18735838738434|   172427.8737126975|   1750.9628038124101|  15671.019734712761| 84237.73188944072|     0.0|\n",
            "|    min|          1003000126|            00612|     AA|    A'BELLE|      -CHERYL|       ACUPUNCTURIST|                0.0|                 0.0|                0.0|               100|            100.0|               100|                 100|                100.0|                 100|              0.15|       1|\n",
            "|    max|          1992999874|           ZWOLLE|     ZZ|ZZIWAMBAZZA|ZYRENE LOUISE|VOLUNTARY HEALTH ...|  999994.5999999999|   9999.974999999999|           99999.86|              9999|            998.0|               999|               99999|    9998.904761904761|                9999|           9999.53|       1|\n",
            "+-------+--------------------+-----------------+-------+-----------+-------------+--------------------+-------------------+--------------------+-------------------+------------------+-----------------+------------------+--------------------+---------------------+--------------------+------------------+--------+\n",
            "\n"
          ]
        }
      ],
      "source": [
        "statistics_df = Features_df.describe()\n",
        "statistics_df.show()"
      ]
    },
    {
      "cell_type": "code",
      "execution_count": 120,
      "metadata": {
        "id": "elis6Ft5Tv-k"
      },
      "outputs": [],
      "source": [
        "# Fill missing values with 0\n",
        "Features_df = Features_df.fillna(0)\n",
        "\n",
        "# Show some of the results to verify the fill operation\n",
        "#Features_df.show()"
      ]
    },
    {
      "cell_type": "code",
      "execution_count": 121,
      "metadata": {
        "id": "pUMMMQ2iTv-k",
        "colab": {
          "base_uri": "https://localhost:8080/"
        },
        "outputId": "c138c4d9-8303-4c82-f8c5-7807d1f2c5e9"
      },
      "outputs": [
        {
          "output_type": "stream",
          "name": "stdout",
          "text": [
            "Count of 'is_fraud' == 1: 332\n"
          ]
        }
      ],
      "source": [
        "fraud_count = Features_df.filter(Features_df.is_fraud == 1).count()\n",
        "\n",
        "# Print the count of fraudulent cases\n",
        "print(f\"Count of 'is_fraud' == 1: {fraud_count}\")"
      ]
    },
    {
      "cell_type": "code",
      "execution_count": 122,
      "metadata": {
        "id": "WT0lZyL4Tv-l"
      },
      "outputs": [],
      "source": [
        "FeaturesAll_pd=Features_df"
      ]
    },
    {
      "cell_type": "code",
      "execution_count": 127,
      "metadata": {
        "id": "ITwM5DFTTv-l"
      },
      "outputs": [],
      "source": [
        "from pyspark.sql.functions import col, log10\n",
        "\n",
        "# Applying log10 scaling and creating new features using the correct column names\n",
        "FeaturesAll_pd = FeaturesAll_pd.withColumn(\"total_drug_cost_sum\", log10(col(\"total_drug_cost_sum\") + 1.0))\\\n",
        "                               .withColumn(\"Total_Claims_Sum\", log10(col(\"Total_Claims_Sum\") + 1.0))\\\n",
        "                               .withColumn(\"total_day_supply_sum\", log10(col(\"total_day_supply_sum\") + 1.0))\\\n",
        "                               .withColumn(\"Total_Payment_Sum\", log10(col(\"Total_Payment_Sum\") + 1.0))\\\n",
        "                               .withColumn(\"total_drug_cost_mean\", log10(col(\"total_drug_cost_mean\") + 1.0))\\\n",
        "                               .withColumn(\"Total_Claims_Mean\", log10(col(\"Total_Claims_Mean\") + 1.0))\\\n",
        "                               .withColumn(\"total_day_supply_mean\", log10(col(\"total_day_supply_mean\") + 1.0))\\\n",
        "                               .withColumn(\"total_drug_cost_max\", log10(col(\"total_drug_cost_max\") + 1.0))\\\n",
        "                               .withColumn(\"Total_Claims_Max\", log10(col(\"Total_Claims_Max\") + 1.0))\\\n",
        "                               .withColumn(\"total_day_supply_max\", log10(col(\"total_day_supply_max\") + 1.0))\\\n",
        "                               .withColumn(\"claim_max-mean\", col(\"Total_Claims_Max\") - col(\"Total_Claims_Mean\"))\\\n",
        "                               .withColumn(\"supply_max-mean\", col(\"total_day_supply_max\") - col(\"total_day_supply_mean\"))\\\n",
        "                               .withColumn(\"drug_max-mean\", col(\"total_drug_cost_max\") - col(\"total_drug_cost_mean\"))\n",
        "\n"
      ]
    },
    {
      "cell_type": "code",
      "execution_count": 128,
      "metadata": {
        "id": "H1lz3Nb-Tv-l",
        "colab": {
          "base_uri": "https://localhost:8080/"
        },
        "outputId": "a260a902-7d8a-4f34-d3dd-40288412e972"
      },
      "outputs": [
        {
          "output_type": "execute_result",
          "data": {
            "text/plain": [
              "DataFrame[NPI: string, city: string, state: string, last_name: string, first_name: string, Speciality: string, total_drug_cost_sum: double, total_drug_cost_mean: double, total_drug_cost_max: double, Total_Claims_Sum: double, Total_Claims_Mean: double, Total_Claims_Max: double, total_day_supply_sum: double, total_day_supply_mean: double, total_day_supply_max: double, Total_Payment_Sum: double, is_fraud: int, claim_max-mean: double, supply_max-mean: double, drug_max-mean: double]"
            ]
          },
          "metadata": {},
          "execution_count": 128
        }
      ],
      "source": [
        "FeaturesAll_pd"
      ]
    },
    {
      "cell_type": "code",
      "execution_count": null,
      "metadata": {
        "id": "IMuN5gPSTv-m"
      },
      "outputs": [],
      "source": [
        "#FeaturesAll_pd['npi'] = FeaturesAll_pd.npi.astype(object)"
      ]
    },
    {
      "cell_type": "code",
      "execution_count": 129,
      "metadata": {
        "id": "VcBcQmLcTv-m"
      },
      "outputs": [],
      "source": [
        "categorical_features = ['npi','last_name', 'Speciality','first_name','city', 'state']"
      ]
    },
    {
      "cell_type": "code",
      "execution_count": 136,
      "metadata": {
        "id": "rLQHkdUDTv-m"
      },
      "outputs": [],
      "source": [
        "numerical_features = [\n",
        "    'total_drug_cost_sum', 'total_drug_cost_mean', 'Total_Payment_Sum',\n",
        "    'total_drug_cost_max', 'Total_Claims_Sum', 'Total_Claims_Mean', 'Total_Claims_Max',\n",
        "    'total_day_supply_sum', 'total_day_supply_mean', 'total_day_supply_max',\n",
        "    'claim_max-mean', 'supply_max-mean', 'drug_max-mean'\n",
        "]"
      ]
    },
    {
      "cell_type": "code",
      "execution_count": 137,
      "metadata": {
        "id": "VBWF-ixUTv-m"
      },
      "outputs": [],
      "source": [
        "target = ['is_fraud']"
      ]
    },
    {
      "cell_type": "code",
      "execution_count": 138,
      "metadata": {
        "id": "Uf47pOPoTv-n"
      },
      "outputs": [],
      "source": [
        "allvars = categorical_features + numerical_features + target"
      ]
    },
    {
      "cell_type": "code",
      "execution_count": 140,
      "metadata": {
        "id": "nIW1OZwPTv-n"
      },
      "outputs": [],
      "source": [
        "# Assuming 'FeaturesAll_df' is your DataFrame and 'numerical_features' lists all feature columns\n",
        "from pyspark.ml.feature import VectorAssembler\n",
        "\n",
        "# First, ensure the 'numerical_features' list does not contain the target variable\n",
        "feature_vars = [col for col in numerical_features if col != 'is_fraud']\n",
        "\n",
        "# Use VectorAssembler to combine feature columns into a single feature vector\n",
        "assembler = VectorAssembler(inputCols=feature_vars, outputCol=\"features\")\n",
        "x = assembler.transform(FeaturesAll_pd)\n",
        "\n",
        "# Select the target variable and the features vector\n",
        "y = features_df.select(\"features\", \"is_fraud\")"
      ]
    },
    {
      "cell_type": "code",
      "execution_count": null,
      "metadata": {
        "id": "wLMb6lLeTv-o"
      },
      "outputs": [],
      "source": [
        "# scikit learn\n",
        "from sklearn.model_selection import train_test_split\n",
        "from sklearn.preprocessing import StandardScaler\n",
        "#from sklearn.preprocessing import OneHotEncoder\n",
        "from sklearn.preprocessing import LabelEncoder\n",
        "from sklearn.feature_extraction import DictVectorizer\n",
        "from sklearn.linear_model import LogisticRegression\n",
        "from sklearn.ensemble import RandomForestClassifier\n",
        "from sklearn.metrics import roc_curve, auc"
      ]
    },
    {
      "cell_type": "code",
      "execution_count": null,
      "metadata": {
        "id": "eCrsZq0STv-o"
      },
      "outputs": [],
      "source": [
        "X_train, X_valid, y_train, y_valid = train_test_split(X, y, test_size=0.2, random_state=0)\n",
        "print(X_train.shape)\n",
        "print(X_valid.shape)"
      ]
    },
    {
      "cell_type": "code",
      "execution_count": null,
      "metadata": {
        "id": "8jREXhi7Tv-o"
      },
      "outputs": [],
      "source": [
        "X_train[numerical_features] = X_train.loc[:,numerical_features].fillna(0)\n",
        "X_valid[numerical_features] = X_valid.loc[:,numerical_features].fillna(0)\n",
        "X_train[categorical_features] = X_train.loc[:,categorical_features].fillna('NA')\n",
        "X_valid[categorical_features] = X_valid.loc[:,categorical_features].fillna('NA')"
      ]
    },
    {
      "cell_type": "code",
      "execution_count": null,
      "metadata": {
        "id": "CQ4hLkFsTv-p"
      },
      "outputs": [],
      "source": [
        "scaler= StandardScaler()\n",
        "X_train[numerical_features] = scaler.fit_transform(X_train[numerical_features].values)\n",
        "X_valid[numerical_features] = scaler.transform(X_valid[numerical_features].values)"
      ]
    },
    {
      "cell_type": "code",
      "execution_count": null,
      "metadata": {
        "id": "hUVSDK8lTv-p"
      },
      "outputs": [],
      "source": [
        "print(X_train[numerical_features].dtypes)"
      ]
    },
    {
      "cell_type": "code",
      "execution_count": null,
      "metadata": {
        "id": "LcdvsGXtTv-p"
      },
      "outputs": [],
      "source": [
        "ix_ran = FeaturesAll_pd.index.values\n",
        "np.random.shuffle(ix_ran)\n",
        "\n",
        "df_len = len(FeaturesAll_pd)\n",
        "train_len = int(df_len * 0.8)  # 80% for training\n",
        "\n",
        "\n",
        "ix_train = ix_ran[:train_len]\n",
        "ix_valid = ix_ran[train_len:]\n",
        "\n",
        "df_train = FeaturesAll_pd.ix[ix_train]\n",
        "df_valid = FeaturesAll_pd.ix[ix_valid]\n",
        "\n",
        "print(len(ix_train))\n",
        "print(len(ix_valid))"
      ]
    },
    {
      "cell_type": "code",
      "execution_count": null,
      "metadata": {
        "id": "gHDxQjbBTv-q"
      },
      "outputs": [],
      "source": [
        "print(df_train.dtypes)"
      ]
    },
    {
      "cell_type": "code",
      "execution_count": null,
      "metadata": {
        "id": "UrQCfSioTv-q"
      },
      "outputs": [],
      "source": [
        "# Drug Weighted_Scores\n",
        "\n",
        "partD_drug_train = pd.merge(partD_Drug_pd,df_train[['npi','is_fraud']], how='inner', on=['npi'])\n",
        "partD_drug_All = pd.merge(partD_Drug_pd,FeaturesAll_pd[['npi','is_fraud']], how='inner', on=['npi'])"
      ]
    },
    {
      "cell_type": "code",
      "execution_count": null,
      "metadata": {
        "id": "zJmk4xhfTv-q"
      },
      "outputs": [],
      "source": [
        "print(len(partD_drug_train[partD_drug_train['is_fraud']==1]))"
      ]
    },
    {
      "cell_type": "code",
      "execution_count": null,
      "metadata": {
        "id": "mS-AlV1vTv-r"
      },
      "outputs": [],
      "source": [
        "# get unique drug names\n",
        "drugs = set([ drugx for drugx in partD_drug_train['drug_name'].values if isinstance(drugx, str)])\n",
        "print(len(drugs))"
      ]
    },
    {
      "cell_type": "code",
      "execution_count": null,
      "metadata": {
        "id": "zQrwXrIETv-r"
      },
      "outputs": [],
      "source": [
        "print(\"Total records in train set : \")\n",
        "print(len(partD_drug_train))\n",
        "print(\"Total Fraud in train set : \")\n",
        "print(len(partD_drug_train[partD_drug_train['is_fraud']==1]))\n",
        "partD_drug_train.head()"
      ]
    },
    {
      "cell_type": "code",
      "execution_count": null,
      "metadata": {
        "id": "kYWTx9TLTv-r"
      },
      "outputs": [],
      "source": [
        "cols = ['total_drug_cost','total_claim_count','total_day_supply']"
      ]
    },
    {
      "cell_type": "code",
      "execution_count": null,
      "metadata": {
        "id": "-pLxRA38Tv-s"
      },
      "outputs": [],
      "source": [
        "partD_drug_train_Group = partD_drug_train.groupby(['drug_name', 'is_fraud'])\n",
        "partD_drug_All_Group = partD_drug_All.groupby(['drug_name', 'is_fraud'])"
      ]
    },
    {
      "cell_type": "code",
      "execution_count": null,
      "metadata": {
        "id": "uQ_S7C7nTv-s"
      },
      "outputs": [],
      "source": [
        "drug_keys = partD_drug_train_Group.groups.keys()\n",
        "print(len(drug_keys))"
      ]
    },
    {
      "cell_type": "code",
      "execution_count": null,
      "metadata": {
        "id": "MNJBq1qWTv-t"
      },
      "outputs": [],
      "source": [
        "drug_keys"
      ]
    },
    {
      "cell_type": "code",
      "execution_count": null,
      "metadata": {
        "id": "Qj_H3sp0Tv-t"
      },
      "outputs": [],
      "source": [
        "drug_with_isfraud = [drugx for drugx in drugs if ((drugx,0.0) in drug_keys ) & ( (drugx,1.0) in drug_keys)]"
      ]
    },
    {
      "cell_type": "code",
      "execution_count": null,
      "metadata": {
        "id": "eqbqvgrNTv-t"
      },
      "outputs": [],
      "source": [
        "from scipy.stats import ttest_ind\n",
        "re_drug_tt = dict()\n",
        "for drugx in drug_with_isfraud:\n",
        "    for colx in cols:\n",
        "        fraud_0 = partD_drug_train_Group.get_group((drugx,0.0))[colx].values\n",
        "        fraud_1 = partD_drug_train_Group.get_group((drugx,1.0))[colx].values\n",
        "        # print len(fraud_0), len(fraud_1)\n",
        "        if (len(fraud_0)>2) & (len(fraud_1)>2) :\n",
        "            tt = ttest_ind(fraud_0, fraud_1)\n",
        "            re_drug_tt[(drugx, colx)] = tt"
      ]
    },
    {
      "cell_type": "code",
      "execution_count": null,
      "metadata": {
        "id": "8627_Gd5Tv-t"
      },
      "outputs": [],
      "source": [
        "#Setting Probilities\n",
        "Prob_005 = [(key, p) for (key, (t, p)) in re_drug_tt.items() if p <=0.05]\n",
        "print(len(Prob_005))"
      ]
    },
    {
      "cell_type": "code",
      "execution_count": null,
      "metadata": {
        "id": "dtiquct4Tv-u"
      },
      "outputs": [],
      "source": [
        "inx=100\n",
        "drug_name = Prob_005[inx][0][0]\n",
        "print(drug_name)\n",
        "df_bar = pd.concat([partD_drug_All_Group.get_group((Prob_005[inx][0][0],0.0)), partD_drug_All_Group.get_group((Prob_005[inx][0][0],1.0))])\n",
        "df_bar.head()"
      ]
    },
    {
      "cell_type": "code",
      "execution_count": null,
      "metadata": {
        "id": "3TzsAcPMTv-u"
      },
      "outputs": [],
      "source": [
        "Feture_DrugWeighted = []\n",
        "new_col_all =[]\n",
        "for i, p005x in enumerate(Prob_005):\n",
        "    #if i>4:\n",
        "    #   break\n",
        "    drug_name = p005x[0][0]\n",
        "    cat_name = p005x[0][1]\n",
        "\n",
        "    new_col = drug_name+'_'+cat_name\n",
        "    new_col_all.append(new_col)\n",
        "\n",
        "    drug_0 = partD_drug_All_Group.get_group((drug_name,0.0))[['npi', cat_name]]\n",
        "    drug_1 = partD_drug_All_Group.get_group((drug_name,1.0))[['npi', cat_name]]\n",
        "\n",
        "    drug_01 = pd.concat([drug_0, drug_1])\n",
        "    drug_01.rename(columns={cat_name: new_col}, inplace=True)\n",
        "    Feture_DrugWeighted.append(drug_01)"
      ]
    },
    {
      "cell_type": "code",
      "execution_count": null,
      "metadata": {
        "id": "y6-op2CiTv-u"
      },
      "outputs": [],
      "source": [
        "npi_col = FeaturesAll_pd[['npi']]\n",
        "\n",
        "w_npi = []\n",
        "\n",
        "for n, nx in enumerate(Feture_DrugWeighted):\n",
        "      nggx = pd.merge(npi_col, nx.drop_duplicates(['npi']), on='npi', how='left')\n",
        "      w_npi.append(nggx)"
      ]
    },
    {
      "cell_type": "code",
      "execution_count": null,
      "metadata": {
        "id": "XJtwzVnoTv-u"
      },
      "outputs": [],
      "source": [
        "FeaturesAll_pd1 = FeaturesAll_pd"
      ]
    },
    {
      "cell_type": "code",
      "execution_count": null,
      "metadata": {
        "id": "ELPrtwdLTv-v"
      },
      "outputs": [],
      "source": [
        "for wx in w_npi:\n",
        "    col_n = wx.columns[1]\n",
        "    FeaturesAll_pd1[col_n] = wx[col_n].values\n",
        "\n",
        "wx = w_npi[0]\n",
        "wx.columns[1]\n",
        "col_n = wx.columns[1]"
      ]
    },
    {
      "cell_type": "code",
      "execution_count": null,
      "metadata": {
        "id": "M1SuJqzGTv-v"
      },
      "outputs": [],
      "source": [
        "len(wx[col_n].values)\n",
        "FeaturesAll_pd1.fillna(0)"
      ]
    },
    {
      "cell_type": "code",
      "execution_count": null,
      "metadata": {
        "id": "18AhQMJ1Tv-v"
      },
      "outputs": [],
      "source": [
        "new_col_all"
      ]
    },
    {
      "cell_type": "code",
      "execution_count": null,
      "metadata": {
        "id": "B7d8iPqKTv-v"
      },
      "outputs": [],
      "source": [
        "FeaturesAll_pd1[new_col_all].describe()"
      ]
    },
    {
      "cell_type": "code",
      "execution_count": null,
      "metadata": {
        "id": "b9H3SLIaTv-w"
      },
      "outputs": [],
      "source": [
        "FeaturesAll_pd1['drug_mean'] = FeaturesAll_pd1[new_col_all].mean(axis=1)\n"
      ]
    },
    {
      "cell_type": "code",
      "execution_count": null,
      "metadata": {
        "id": "u1xajDxoTv-w"
      },
      "outputs": [],
      "source": [
        "FeaturesAll_pd['drug_mean'] = FeaturesAll_pd['drug_mean'].map(lambda x: np.log10(x + 1.0))"
      ]
    },
    {
      "cell_type": "code",
      "execution_count": null,
      "metadata": {
        "id": "atTAqT7xTv-w"
      },
      "outputs": [],
      "source": [
        "FeaturesAll_pd1['drug_sum'] = FeaturesAll_pd1[new_col_all].sum(axis=1)\n",
        "FeaturesAll_pd['drug_sum'] = FeaturesAll_pd['drug_sum'].map(lambda x: np.log10(x + 1.0))"
      ]
    },
    {
      "cell_type": "code",
      "execution_count": null,
      "metadata": {
        "id": "GBuJMTD6Tv-x"
      },
      "outputs": [],
      "source": [
        "FeaturesAll_pd1['drug_variance'] = FeaturesAll_pd1[new_col_all].var(axis=1)"
      ]
    },
    {
      "cell_type": "code",
      "execution_count": null,
      "metadata": {
        "scrolled": true,
        "id": "KIA9A1fgTv-x"
      },
      "outputs": [],
      "source": [
        "FeaturesAll_pd1"
      ]
    },
    {
      "cell_type": "code",
      "execution_count": null,
      "metadata": {
        "id": "Qw4_HwQqTv-x"
      },
      "outputs": [],
      "source": []
    },
    {
      "cell_type": "code",
      "execution_count": null,
      "metadata": {
        "id": "QkniWbk1Tv-y"
      },
      "outputs": [],
      "source": []
    },
    {
      "cell_type": "code",
      "execution_count": null,
      "metadata": {
        "id": "ve4omdryTv-y"
      },
      "outputs": [],
      "source": [
        "df_train = FeaturesAll_pd1.ix[ix_train]\n",
        "df_valid = FeaturesAll_pd1.ix[ix_valid]\n",
        "\n",
        "df_train.fillna(0)\n",
        "df_valid.fillna(0)"
      ]
    },
    {
      "cell_type": "code",
      "execution_count": null,
      "metadata": {
        "id": "jNTcH07cTv-y"
      },
      "outputs": [],
      "source": [
        "df_valid.columns"
      ]
    },
    {
      "cell_type": "code",
      "execution_count": null,
      "metadata": {
        "id": "nChCJmheTv-y"
      },
      "outputs": [],
      "source": [
        "#Create the Specialty Weight\n",
        "spec_dict =[]\n",
        "spec_fraud_1 = df_train[df_train['is_fraud']==1]['Speciality']"
      ]
    },
    {
      "cell_type": "code",
      "execution_count": null,
      "metadata": {
        "id": "zAgMRJ8mTv-z"
      },
      "outputs": [],
      "source": [
        "from collections import Counter\n",
        "counts = Counter(spec_fraud_1)\n",
        "spec_dict =  dict(counts)"
      ]
    },
    {
      "cell_type": "code",
      "execution_count": null,
      "metadata": {
        "id": "OdsDncbJTv-z"
      },
      "outputs": [],
      "source": [
        "\n",
        "FeaturesAll_pd1['Spec_Weight'] = FeaturesAll_pd1['Speciality'].map(lambda x: spec_dict.get(x, 0))"
      ]
    },
    {
      "cell_type": "code",
      "execution_count": null,
      "metadata": {
        "scrolled": true,
        "id": "_cXoSNdQTv-z"
      },
      "outputs": [],
      "source": [
        "df_train = FeaturesAll_pd1.ix[ix_train]\n",
        "df_valid = FeaturesAll_pd1.ix[ix_valid]"
      ]
    },
    {
      "cell_type": "code",
      "execution_count": null,
      "metadata": {
        "id": "I-R9MuVGTv-z"
      },
      "outputs": [],
      "source": [
        "len(df_train[df_train['is_fraud'] == 1])"
      ]
    },
    {
      "cell_type": "code",
      "execution_count": null,
      "metadata": {
        "id": "noxbNpibTv-0"
      },
      "outputs": [],
      "source": [
        "print(df_train.dtypes)"
      ]
    },
    {
      "cell_type": "code",
      "execution_count": null,
      "metadata": {
        "id": "a39gpdcHTv-0"
      },
      "outputs": [],
      "source": [
        "df_train.fillna(0)"
      ]
    },
    {
      "cell_type": "code",
      "execution_count": null,
      "metadata": {
        "id": "GZSLHQCTTv-0"
      },
      "outputs": [],
      "source": [
        "df_valid.fillna(0)"
      ]
    },
    {
      "cell_type": "code",
      "execution_count": null,
      "metadata": {
        "id": "yN_NzlMmTv-0"
      },
      "outputs": [],
      "source": [
        "numerical_features1 = numerical_features + ['drug_sum','Spec_Weight']"
      ]
    },
    {
      "cell_type": "code",
      "execution_count": null,
      "metadata": {
        "id": "DzZquAjUTv-0"
      },
      "outputs": [],
      "source": [
        "numerical_features1"
      ]
    },
    {
      "cell_type": "code",
      "execution_count": null,
      "metadata": {
        "id": "FsEKqhQ_Tv-1"
      },
      "outputs": [],
      "source": []
    },
    {
      "cell_type": "code",
      "execution_count": null,
      "metadata": {
        "id": "0BfpGpz-Tv-1"
      },
      "outputs": [],
      "source": [
        "positives=len(df_train[df_train['is_fraud'] == 1])\n",
        "positives"
      ]
    },
    {
      "cell_type": "code",
      "execution_count": null,
      "metadata": {
        "id": "q1lFBUvETv-1"
      },
      "outputs": [],
      "source": [
        "dataset_size=len(df_train)\n",
        "dataset_size"
      ]
    },
    {
      "cell_type": "code",
      "execution_count": null,
      "metadata": {
        "id": "lHEbz4aXTv-1"
      },
      "outputs": [],
      "source": [
        "per_ones=(float(positives)/float(dataset_size))*100\n",
        "per_ones"
      ]
    },
    {
      "cell_type": "code",
      "execution_count": null,
      "metadata": {
        "id": "9M0Dgu01Tv-2"
      },
      "outputs": [],
      "source": [
        "negatives=float(dataset_size-positives)\n",
        "t=negatives/positives\n",
        "t\n"
      ]
    },
    {
      "cell_type": "code",
      "execution_count": null,
      "metadata": {
        "id": "WRoaKhmTTv-2"
      },
      "outputs": [],
      "source": [
        "BalancingRatio= positives/dataset_size\n",
        "BalancingRatio"
      ]
    },
    {
      "cell_type": "code",
      "execution_count": null,
      "metadata": {
        "id": "MluuyCMtTv-3"
      },
      "outputs": [],
      "source": [
        "BalancingRatio= positives/dataset_size\n",
        "BalancingRatio"
      ]
    },
    {
      "cell_type": "code",
      "execution_count": null,
      "metadata": {
        "id": "usI84gotTv-3"
      },
      "outputs": [],
      "source": []
    },
    {
      "cell_type": "code",
      "execution_count": null,
      "metadata": {
        "id": "oKBZbUlgTv-3"
      },
      "outputs": [],
      "source": [
        "X= df_train[numerical_features1].values\n",
        "Y = df_train['is_fraud'].values\n",
        "clf =  LogisticRegression(C=1e5, class_weight={0:1, 1:4000}, n_jobs=3)\n",
        "clf.fit(X,Y)\n",
        "y_p=clf.predict_proba(X)"
      ]
    },
    {
      "cell_type": "code",
      "execution_count": null,
      "metadata": {
        "id": "dqKBobEDTv-4"
      },
      "outputs": [],
      "source": [
        "params_0 = {'n_estimators': 100, 'max_depth': 8, 'min_samples_split': 3, 'learning_rate': 0.01}\n",
        "params_1 = {'n_estimators': 500, 'max_depth': 10, 'min_samples_split': 5, 'class_weight' : {0:1, 1:2514}, 'n_jobs':5}\n",
        "\n",
        "scaler = StandardScaler()\n",
        "\n",
        "clfs = [\n",
        "    LogisticRegression(C=1e5,class_weight= {0:1, 1:2514}, n_jobs=5),\n",
        "\n",
        "    GaussianNB(),\n",
        "\n",
        "    ensemble.RandomForestClassifier(**params_1),\n",
        "\n",
        "    ensemble.ExtraTreesClassifier(**params_1),\n",
        "\n",
        "    ensemble.GradientBoostingClassifier(**params_0)\n",
        "\n",
        "    ]"
      ]
    },
    {
      "cell_type": "code",
      "execution_count": null,
      "metadata": {
        "id": "ztPgTg4YTv-4"
      },
      "outputs": [],
      "source": [
        "X_train = df_train[numerical_features1].values\n",
        "\n",
        "y_train = df_train['is_fraud'].values\n",
        "\n",
        "X_train = scaler.fit_transform(X_train)\n",
        "\n",
        "X_valid = df_valid[numerical_features1].values\n",
        "y_valid = df_valid['is_fraud'].values\n",
        "X_valid_x= scaler.transform(X_valid)"
      ]
    },
    {
      "cell_type": "code",
      "execution_count": null,
      "metadata": {
        "id": "W42iPU1HTv-4"
      },
      "outputs": [],
      "source": [
        "prob_result = []\n",
        "df_m = []\n",
        "clfs_fited = []\n",
        "for clf in clfs:\n",
        "    print(\"%s:\" %  clf.__class__.__name__)\n",
        "    clf.fit(X_train,y_train)\n",
        "    clfs_fited.append(clf)\n",
        "    y_pred = clf.predict(X_valid_x)\n",
        "    prob_pos  = clf.predict_proba(X_valid_x)[:, 1]\n",
        "    prob_result.append(prob_pos)\n",
        "    m = confusion_matrix(y_valid, y_pred)\n",
        "    clf_score = brier_score_loss(y_valid, prob_pos, pos_label=y_valid.max())\n",
        "    print(\"\\tBrier: %1.5f\" % (clf_score))\n",
        "    print(\"\\tPrecision: %1.5f\" % precision_score(y_valid, y_pred))\n",
        "    print(\"\\tRecall: %1.5f\" % recall_score(y_valid, y_pred))\n",
        "    print(\"\\tF1: %1.5f\" % f1_score(y_valid, y_pred))\n",
        "    print(\"\\tauc: %1.5f\" % roc_auc_score(y_valid, prob_pos))\n",
        "    print(\"\\tAccuracy: %1.5f\\n\" % accuracy_score(y_valid, y_pred))\n",
        "    df_m.append(\n",
        "        pd.DataFrame(m, index=['True Negative', 'True Positive'], columns=['Pred. Negative', 'Pred. Positive'])\n",
        "        )"
      ]
    },
    {
      "cell_type": "code",
      "execution_count": null,
      "metadata": {
        "id": "yyOAnLA4Tv-5"
      },
      "outputs": [],
      "source": [
        "fpr, tpr, thresholds = roc_curve(y_valid, prob_result[2])"
      ]
    },
    {
      "cell_type": "code",
      "execution_count": null,
      "metadata": {
        "id": "ToCgTTPETv-5"
      },
      "outputs": [],
      "source": [
        "fpr, tpr, thresholds = roc_curve(y_valid, prob_result[2])\n",
        "roc_auc = auc(fpr, tpr)\n",
        "plt.plot(fpr, tpr, lw=1, label='ROC (area = %0.2f)' % roc_auc)\n",
        "plt.xlim([-0.05, 1.05])\n",
        "plt.ylim([-0.05, 1.05])\n",
        "plt.xlabel('False Positive Rate')\n",
        "plt.ylabel('True Positive Rate')\n",
        "plt.title('Receiver operating characteristic')\n",
        "plt.legend(loc=\"lower right\")\n",
        "plt.show()"
      ]
    },
    {
      "cell_type": "code",
      "execution_count": null,
      "metadata": {
        "id": "NN79rWAyTv-5"
      },
      "outputs": [],
      "source": [
        "m"
      ]
    },
    {
      "cell_type": "code",
      "execution_count": null,
      "metadata": {
        "id": "uD07p7taTv-6"
      },
      "outputs": [],
      "source": [
        "X_valid_x[0]"
      ]
    },
    {
      "cell_type": "code",
      "execution_count": null,
      "metadata": {
        "id": "iyhfyq_VTv-6"
      },
      "outputs": [],
      "source": [
        "df_train"
      ]
    },
    {
      "cell_type": "code",
      "execution_count": null,
      "metadata": {
        "id": "aB82xoPCTv-6"
      },
      "outputs": [],
      "source": [
        "X_valid_x[1]"
      ]
    },
    {
      "cell_type": "code",
      "execution_count": null,
      "metadata": {
        "id": "7kOFTUEtTv-7"
      },
      "outputs": [],
      "source": [
        "y_pred = clf.predict(X_valid_x)"
      ]
    },
    {
      "cell_type": "code",
      "execution_count": null,
      "metadata": {
        "id": "NrJ6PXB_Tv-7"
      },
      "outputs": [],
      "source": [
        "y_pred"
      ]
    },
    {
      "cell_type": "code",
      "execution_count": null,
      "metadata": {
        "id": "z680NGpJTv-7"
      },
      "outputs": [],
      "source": [
        "X_train[0]"
      ]
    },
    {
      "cell_type": "code",
      "execution_count": null,
      "metadata": {
        "id": "tC1A-nTGTv-7"
      },
      "outputs": [],
      "source": [
        "feature_importance = clfs_fited[2].feature_importances_\n",
        "# make importances relative to max importance\n",
        "feature_importance = 100.0 * (feature_importance / feature_importance.max())\n",
        "sorted_idx = np.argsort(feature_importance)"
      ]
    },
    {
      "cell_type": "code",
      "execution_count": null,
      "metadata": {
        "id": "b_11lo9oTv-8"
      },
      "outputs": [],
      "source": [
        "feature_importance[sorted_idx]\n"
      ]
    },
    {
      "cell_type": "code",
      "execution_count": null,
      "metadata": {
        "id": "79mca02dTv-8"
      },
      "outputs": [],
      "source": [
        "features = [numerical_features1[ix] for ix in sorted_idx]\n",
        "bardata = {\"name\":features[::-1], \"importance percent\":feature_importance[sorted_idx][::-1]}"
      ]
    },
    {
      "cell_type": "code",
      "execution_count": null,
      "metadata": {
        "id": "-b_WvWyZTv-8"
      },
      "outputs": [],
      "source": [
        "plt.figure()\n",
        "\n",
        "# Create plot title\n",
        "plt.title(\"Feature Importance\")\n",
        "\n",
        "# Add bars\n",
        "plt.bar(range(X.shape[1]), feature_importance[sorted_idx])\n",
        "\n",
        "# Add feature names as x-axis labels\n",
        "plt.xticks(range(X.shape[1]), features, rotation=90)\n",
        "\n",
        "# Show plot\n",
        "plt.show()"
      ]
    },
    {
      "cell_type": "code",
      "execution_count": null,
      "metadata": {
        "id": "vR2ANdpGTv-8"
      },
      "outputs": [],
      "source": []
    }
  ],
  "metadata": {
    "kernelspec": {
      "display_name": "Python 3",
      "name": "python3"
    },
    "language_info": {
      "codemirror_mode": {
        "name": "ipython",
        "version": 3
      },
      "file_extension": ".py",
      "mimetype": "text/x-python",
      "name": "python",
      "nbconvert_exporter": "python",
      "pygments_lexer": "ipython3",
      "version": "3.7.4"
    },
    "colab": {
      "provenance": []
    }
  },
  "nbformat": 4,
  "nbformat_minor": 0
}